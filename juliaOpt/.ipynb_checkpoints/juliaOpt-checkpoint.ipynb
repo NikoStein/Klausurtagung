{
 "cells": [
  {
   "cell_type": "markdown",
   "metadata": {},
   "source": [
    "# Mathematical Optimization\n",
    "- Specialized solvers for linear, mixed integer, quadratic, etc. problems\n",
    "- Need to be able to write code that is a natural and maintainable translation of the mathematics of our problem\n",
    "- Preferably loosley coupled to the specific solution method and data"
   ]
  },
  {
   "cell_type": "markdown",
   "metadata": {},
   "source": [
    "# What is JuliaOpt?\n",
    "- A collection of high-quality optimization related packages\n",
    "- Algebraic modelling language that lets you express optimization problems naturally and quickly (JuMP)\n",
    "- Ligh-weight wrappers around C interfaces of powerfult commercial and open-source solvers:\n",
    "    - Gurobi\n",
    "    - COIN-OR\n",
    "    - GLPK\n",
    "    - CPLEX\n",
    "    - ..."
   ]
  },
  {
   "cell_type": "markdown",
   "metadata": {},
   "source": [
    "# Why should we use it?\n",
    "+ Very user-friendly\n",
    "+ Speed similar to special purpose commercial modelling language like AMPL\n",
    "+ Solver independent code: same code will run for both commercial and open-source solvers\n",
    "+ Very easy to implement solver callback and problem modification"
   ]
  },
  {
   "cell_type": "markdown",
   "metadata": {},
   "source": [
    "# JuMP: Algebraic modeling\n",
    "- JuMP allows us to translate mathematical statements of optimization problems into code\n",
    "- It efficiently generates the data structures solvers require as input\n",
    "- Much easier to reason about than hand-coding problem structure"
   ]
  },
  {
   "cell_type": "markdown",
   "metadata": {},
   "source": [
    "# JuMP Philosophy\n",
    "- Make modeling quick and painless for practitioners\n",
    "- Allow experts to easilty use integrated advanced features (usually available through low-level solver interfaces)\n",
    "- Make it as fast as possible"
   ]
  },
  {
   "cell_type": "markdown",
   "metadata": {},
   "source": [
    "# Install Julia"
   ]
  },
  {
   "cell_type": "markdown",
   "metadata": {},
   "source": [
    "To use Julia in local notebooks you have to:\n",
    "- Install anaconda ([Anaconda Downloads](https://www.anaconda.com/distribution/))\n",
    "- Download Julia for your OS ([Julia Downloads](https://julialang.org/downloads/))\n",
    "- Add the Julia Kernel to Jupyter ([Tutorial](https://datatofish.com/add-julia-to-jupyter/))\n",
    "\n",
    "Or you can just use Google Colab"
   ]
  },
  {
   "cell_type": "markdown",
   "metadata": {},
   "source": [
    "# Install JuMP and Solvers\n",
    "For an exhaustive list of available solvers see [solvers](http://www.juliaopt.org/JuMP.jl/v0.14/installation.html#getting-solvers))"
   ]
  },
  {
   "cell_type": "code",
   "execution_count": 2,
   "metadata": {},
   "outputs": [
    {
     "name": "stdout",
     "output_type": "stream",
     "text": [
      "\u001b[32m\u001b[1m Resolving\u001b[22m\u001b[39m package versions...\n",
      "\u001b[32m\u001b[1m  Updating\u001b[22m\u001b[39m `~/.julia/environments/v1.1/Project.toml`\n",
      "\u001b[90m [no changes]\u001b[39m\n",
      "\u001b[32m\u001b[1m  Updating\u001b[22m\u001b[39m `~/.julia/environments/v1.1/Manifest.toml`\n",
      "\u001b[90m [no changes]\u001b[39m\n",
      "\u001b[32m\u001b[1m Resolving\u001b[22m\u001b[39m package versions...\n",
      "\u001b[32m\u001b[1m  Updating\u001b[22m\u001b[39m `~/.julia/environments/v1.1/Project.toml`\n",
      "\u001b[90m [no changes]\u001b[39m\n",
      "\u001b[32m\u001b[1m  Updating\u001b[22m\u001b[39m `~/.julia/environments/v1.1/Manifest.toml`\n",
      "\u001b[90m [no changes]\u001b[39m\n",
      "\u001b[32m\u001b[1m Resolving\u001b[22m\u001b[39m package versions...\n",
      "\u001b[32m\u001b[1m  Updating\u001b[22m\u001b[39m `~/.julia/environments/v1.1/Project.toml`\n",
      "\u001b[90m [no changes]\u001b[39m\n",
      "\u001b[32m\u001b[1m  Updating\u001b[22m\u001b[39m `~/.julia/environments/v1.1/Manifest.toml`\n",
      "\u001b[90m [no changes]\u001b[39m\n"
     ]
    }
   ],
   "source": [
    "using Pkg\n",
    "Pkg.add(\"JuMP\")\n",
    "\n",
    "Pkg.add(\"GLPK\")\n",
    "Pkg.add(\"Gurobi\")"
   ]
  },
  {
   "cell_type": "markdown",
   "metadata": {},
   "source": [
    "# A simple example\n",
    "First, we solve a very simple example to get familiar with JuMP:\n",
    "\n",
    "$\\max 30x + 20y$\n",
    "\n",
    "subject to:\n",
    "\n",
    "$x \\leq 10$\n",
    "\n",
    "$y \\leq 6$\n",
    "\n",
    "$2x + 4y \\leq 32$\n",
    "\n",
    "$x, y \\geq 0$"
   ]
  },
  {
   "cell_type": "markdown",
   "metadata": {},
   "source": [
    "Load JuMP and the GLPK solver:"
   ]
  },
  {
   "cell_type": "code",
   "execution_count": 3,
   "metadata": {},
   "outputs": [],
   "source": [
    "using JuMP\n",
    "using GLPK"
   ]
  },
  {
   "cell_type": "markdown",
   "metadata": {},
   "source": [
    "Construct the model:"
   ]
  },
  {
   "cell_type": "code",
   "execution_count": 4,
   "metadata": {},
   "outputs": [
    {
     "data": {
      "text/latex": [
       "$$ \\begin{alignat*}{1}\\text{feasibility}\\\\\n",
       "\\text{Subject to} \\quad\\end{alignat*}\n",
       " $$"
      ],
      "text/plain": [
       "A JuMP Model\n",
       "Feasibility problem with:\n",
       "Variables: 0\n",
       "Model mode: AUTOMATIC\n",
       "CachingOptimizer state: EMPTY_OPTIMIZER\n",
       "Solver name: GLPK"
      ]
     },
     "execution_count": 4,
     "metadata": {},
     "output_type": "execute_result"
    }
   ],
   "source": [
    "myFirstModel = Model(with_optimizer(GLPK.Optimizer))"
   ]
  },
  {
   "cell_type": "markdown",
   "metadata": {},
   "source": [
    "Define variables:"
   ]
  },
  {
   "cell_type": "code",
   "execution_count": 5,
   "metadata": {},
   "outputs": [
    {
     "data": {
      "text/latex": [
       "$$ y $$"
      ],
      "text/plain": [
       "y"
      ]
     },
     "execution_count": 5,
     "metadata": {},
     "output_type": "execute_result"
    }
   ],
   "source": [
    "@variable(myFirstModel, 0 <= x <= 10)\n",
    "@variable(myFirstModel, 0 <= y <= 6)"
   ]
  },
  {
   "cell_type": "markdown",
   "metadata": {},
   "source": [
    "Set objective:"
   ]
  },
  {
   "cell_type": "code",
   "execution_count": 6,
   "metadata": {},
   "outputs": [
    {
     "data": {
      "text/latex": [
       "$$ 30 x + 20 y $$"
      ],
      "text/plain": [
       "30 x + 20 y"
      ]
     },
     "execution_count": 6,
     "metadata": {},
     "output_type": "execute_result"
    }
   ],
   "source": [
    "@objective(myFirstModel, Max, 30*x+20*y)"
   ]
  },
  {
   "cell_type": "markdown",
   "metadata": {},
   "source": [
    "Add constraints:"
   ]
  },
  {
   "cell_type": "code",
   "execution_count": 7,
   "metadata": {},
   "outputs": [
    {
     "data": {
      "text/latex": [
       "$ 2 x + 4 y \\leq 32.0 $"
      ],
      "text/plain": [
       "2 x + 4 y ≤ 32.0"
      ]
     },
     "execution_count": 7,
     "metadata": {},
     "output_type": "execute_result"
    }
   ],
   "source": [
    "@constraint(myFirstModel, 2*x + 4*y <= 32)"
   ]
  },
  {
   "cell_type": "markdown",
   "metadata": {},
   "source": [
    "Print the model:"
   ]
  },
  {
   "cell_type": "code",
   "execution_count": 8,
   "metadata": {},
   "outputs": [
    {
     "name": "stdout",
     "output_type": "stream",
     "text": [
      "Max 30 x + 20 y\n",
      "Subject to\n",
      " x ≥ 0.0\n",
      " y ≥ 0.0\n",
      " x ≤ 10.0\n",
      " y ≤ 6.0\n",
      " 2 x + 4 y ≤ 32.0\n"
     ]
    }
   ],
   "source": [
    "print(myFirstModel)"
   ]
  },
  {
   "cell_type": "markdown",
   "metadata": {},
   "source": [
    "Solve the model:"
   ]
  },
  {
   "cell_type": "code",
   "execution_count": 9,
   "metadata": {},
   "outputs": [],
   "source": [
    "optimize!(myFirstModel)"
   ]
  },
  {
   "cell_type": "markdown",
   "metadata": {},
   "source": [
    "Print the results:"
   ]
  },
  {
   "cell_type": "code",
   "execution_count": 10,
   "metadata": {},
   "outputs": [
    {
     "name": "stdout",
     "output_type": "stream",
     "text": [
      "Model status: OPTIMAL\n",
      "Objective value: 360.0\n",
      "x = 10.0\n",
      "y = 3.0\n"
     ]
    }
   ],
   "source": [
    "println(\"Model status: \", termination_status(myFirstModel))\n",
    "println(\"Objective value: \", objective_value(myFirstModel))\n",
    "println(\"x = \", value(x)) #\n",
    "println(\"y = \", value(y))"
   ]
  },
  {
   "cell_type": "markdown",
   "metadata": {},
   "source": [
    "# Solving Bin Packing Problem"
   ]
  },
  {
   "cell_type": "markdown",
   "metadata": {},
   "source": [
    "Given n items of different weights and bins each of capacity c, assign each item to a bin such that number of total used bins is minimized. It may be assumed that all items have weights smaller than bin capacity."
   ]
  },
  {
   "cell_type": "code",
   "execution_count": null,
   "metadata": {},
   "outputs": [],
   "source": [
    "# Load JuMP\n",
    "using JuMP"
   ]
  },
  {
   "cell_type": "code",
   "execution_count": null,
   "metadata": {},
   "outputs": [],
   "source": [
    "weight =\n",
    "\n",
    "capacity\n"
   ]
  },
  {
   "cell_type": "code",
   "execution_count": null,
   "metadata": {},
   "outputs": [],
   "source": [
    "minimize"
   ]
  },
  {
   "cell_type": "code",
   "execution_count": null,
   "metadata": {},
   "outputs": [],
   "source": [
    "subject to"
   ]
  },
  {
   "cell_type": "code",
   "execution_count": null,
   "metadata": {},
   "outputs": [],
   "source": []
  },
  {
   "cell_type": "markdown",
   "metadata": {},
   "source": [
    "Cplex, gurobi"
   ]
  },
  {
   "cell_type": "markdown",
   "metadata": {},
   "source": [
    "open source solvers: GLPK,CBC and SCIP (non-commercial)"
   ]
  },
  {
   "cell_type": "markdown",
   "metadata": {},
   "source": [
    "# Credits\n",
    "Parts of this presenation are adapted from:\n",
    "- https://github.com/JuliaCon/presentations/blob/master/JuliaOpt/JuliaOpt.pdf\n",
    "- http://www.juliaopt.org/notebooks/Shuvomoy%20-%20Getting%20started%20with%20JuMP.html"
   ]
  }
 ],
 "metadata": {
  "kernelspec": {
   "display_name": "Julia 1.1.1",
   "language": "julia",
   "name": "julia-1.1"
  },
  "language_info": {
   "file_extension": ".jl",
   "mimetype": "application/julia",
   "name": "julia",
   "version": "1.1.1"
  }
 },
 "nbformat": 4,
 "nbformat_minor": 2
}
